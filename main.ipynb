{
 "cells": [
  {
   "cell_type": "code",
   "execution_count": 3,
   "metadata": {},
   "outputs": [],
   "source": [
    "import requests\n",
    "from bs4 import BeautifulSoup as bs\n",
    "import json\n",
    "import datetime\n",
    "import pandas as pd\n",
    "import pprint\n",
    "pp = pprint.PrettyPrinter(indent=4) #makes print easier to see \n"
   ]
  },
  {
   "cell_type": "code",
   "execution_count": 3,
   "metadata": {},
   "outputs": [
    {
     "name": "stdout",
     "output_type": "stream",
     "text": [
      "   OBJECTID  NAM                       ADDRESS  WIN_TEMP           X  \\\n",
      "0       1.0   관악   서울특별시 관악구 신림동 산56-1 (서울대학교) -1.065771  195595.313   \n",
      "1       2.0   금천   서울특별시 금천구 독산동 1034 (독산초등학교)  1.547382  192402.085   \n",
      "2       3.0   서초  서울특별시 서초구 서초동 1650 (서울교육대학교)  0.989879  201584.355   \n",
      "3       4.0   구로  서울특별시 구로구 궁동 213-42 (수궁동사무소) -0.124186  185073.607   \n",
      "4       5.0  기상청   서울특별시 동작구 신대방동 460-18 (기상청)  0.653926  192989.465   \n",
      "\n",
      "            Y  \n",
      "0  439273.753  \n",
      "1  440102.985  \n",
      "2  442596.883  \n",
      "3    442976.2  \n",
      "4  444098.001  \n"
     ]
    }
   ],
   "source": [
    "\n",
    "serviceKey = '6658714550666c6f33324255415266'\n",
    "dtype = 'json'\n",
    "url = 'http://openapi.seoul.go.kr:8088/sample/json/GeoInfoWinterAvrgTemp/1/5/'\n",
    "res=requests.get(url)\n",
    "items = res.json()\n",
    "# print(pp.pprint(items))\n",
    "nesdata = items['GeoInfoWinterAvrgTemp']['row']\n",
    "df = pd.DataFrame(nesdata)\n",
    "# df.to_csv('data.csv', index=False)\n",
    "print(df)"
   ]
  },
  {
   "cell_type": "code",
   "execution_count": 9,
   "metadata": {},
   "outputs": [
    {
     "name": "stdout",
     "output_type": "stream",
     "text": [
      "https://api.openweathermap.org/data/2.5/weather?q=London&appid=e552bcfe5aa66b7847c692b99f1b01ca\n",
      "{\"cod\":401, \"message\": \"Invalid API key. Please see https://openweathermap.org/faq#error401 for more info.\"}\n"
     ]
    }
   ],
   "source": [
    "\n",
    "serviceKey = \"e552bcfe5aa66b7847c692b99f1b01ca\"\n",
    "dtype = 'json'\n",
    "url = 'https://api.openweathermap.org/data/2.5/weather?q=London&appid='+serviceKey\n",
    "print(url)\n",
    "res=requests.get(url)\n",
    "print(res.text)\n",
    "# items = res.json()\n",
    "# # print(pp.pprint(items))\n",
    "# nesdata = items['GeoInfoWinterAvrgTemp']['row']\n",
    "\n",
    "# df = pd.DataFrame(nesdata)\n",
    "# # df.to_csv('data.csv', index=False)\n",
    "# print(df)"
   ]
  },
  {
   "cell_type": "code",
   "execution_count": 8,
   "metadata": {},
   "outputs": [
    {
     "data": {
      "text/plain": [
       "0   -1.065771\n",
       "1    1.547382\n",
       "2    0.989879\n",
       "3   -0.124186\n",
       "4    0.653926\n",
       "Name: WIN_TEMP, dtype: float64"
      ]
     },
     "execution_count": 8,
     "metadata": {},
     "output_type": "execute_result"
    }
   ],
   "source": [
    "(df['WIN_TEMP'])"
   ]
  }
 ],
 "metadata": {
  "kernelspec": {
   "display_name": "Python 3",
   "language": "python",
   "name": "python3"
  },
  "language_info": {
   "codemirror_mode": {
    "name": "ipython",
    "version": 3
   },
   "file_extension": ".py",
   "mimetype": "text/x-python",
   "name": "python",
   "nbconvert_exporter": "python",
   "pygments_lexer": "ipython3",
   "version": "3.9.5"
  },
  "orig_nbformat": 4,
  "vscode": {
   "interpreter": {
    "hash": "81794d4967e6c3204c66dcd87b604927b115b27c00565d3d43f05ba2f3a2cb0d"
   }
  }
 },
 "nbformat": 4,
 "nbformat_minor": 2
}
